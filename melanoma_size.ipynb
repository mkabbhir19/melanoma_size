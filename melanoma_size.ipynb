{
  "nbformat": 4,
  "nbformat_minor": 0,
  "metadata": {
    "colab": {
      "name": "melanoma_size",
      "provenance": []
    },
    "kernelspec": {
      "name": "python3",
      "display_name": "Python 3"
    }
  },
  "cells": [
    {
      "cell_type": "code",
      "metadata": {
        "id": "SLTUMyCgVeSj",
        "colab_type": "code",
        "colab": {}
      },
      "source": [
        "import pandas as pd\n",
        "import numpy as np\n",
        "from matplotlib import pyplot as plt\n",
        "import seaborn as sns\n",
        "%matplotlib inline\n",
        "from sklearn.ensemble import RandomForestRegressor\n"
      ],
      "execution_count": 85,
      "outputs": []
    },
    {
      "cell_type": "code",
      "metadata": {
        "id": "DghIAp29Wb-C",
        "colab_type": "code",
        "colab": {
          "base_uri": "https://localhost:8080/",
          "height": 206
        },
        "outputId": "91dd007b-41f0-40c3-8bb1-79dff9d33d61"
      },
      "source": [
        "data = pd.read_csv(\"https://raw.githubusercontent.com/mkabbhir19/melanoma_size/master/Train.csv\")\n",
        "data.head()\n",
        "#data.columns"
      ],
      "execution_count": 86,
      "outputs": [
        {
          "output_type": "execute_result",
          "data": {
            "text/html": [
              "<div>\n",
              "<style scoped>\n",
              "    .dataframe tbody tr th:only-of-type {\n",
              "        vertical-align: middle;\n",
              "    }\n",
              "\n",
              "    .dataframe tbody tr th {\n",
              "        vertical-align: top;\n",
              "    }\n",
              "\n",
              "    .dataframe thead th {\n",
              "        text-align: right;\n",
              "    }\n",
              "</style>\n",
              "<table border=\"1\" class=\"dataframe\">\n",
              "  <thead>\n",
              "    <tr style=\"text-align: right;\">\n",
              "      <th></th>\n",
              "      <th>mass_npea</th>\n",
              "      <th>size_npear</th>\n",
              "      <th>malign_ratio</th>\n",
              "      <th>damage_size</th>\n",
              "      <th>exposed_area</th>\n",
              "      <th>std_dev_malign</th>\n",
              "      <th>err_malign</th>\n",
              "      <th>malign_penalty</th>\n",
              "      <th>damage_ratio</th>\n",
              "      <th>tumor_size</th>\n",
              "    </tr>\n",
              "  </thead>\n",
              "  <tbody>\n",
              "    <tr>\n",
              "      <th>0</th>\n",
              "      <td>6930.90</td>\n",
              "      <td>2919.02</td>\n",
              "      <td>0.42116</td>\n",
              "      <td>51.8298</td>\n",
              "      <td>9.888294e+05</td>\n",
              "      <td>109.487</td>\n",
              "      <td>2758.76</td>\n",
              "      <td>72</td>\n",
              "      <td>39.3620</td>\n",
              "      <td>14.103</td>\n",
              "    </tr>\n",
              "    <tr>\n",
              "      <th>1</th>\n",
              "      <td>15635.70</td>\n",
              "      <td>4879.36</td>\n",
              "      <td>0.31206</td>\n",
              "      <td>223.5500</td>\n",
              "      <td>2.058426e+06</td>\n",
              "      <td>248.881</td>\n",
              "      <td>5952.53</td>\n",
              "      <td>240</td>\n",
              "      <td>22.0253</td>\n",
              "      <td>2.648</td>\n",
              "    </tr>\n",
              "    <tr>\n",
              "      <th>2</th>\n",
              "      <td>10376.20</td>\n",
              "      <td>2613.88</td>\n",
              "      <td>0.25191</td>\n",
              "      <td>127.3370</td>\n",
              "      <td>1.434676e+06</td>\n",
              "      <td>160.093</td>\n",
              "      <td>4635.26</td>\n",
              "      <td>73</td>\n",
              "      <td>29.9963</td>\n",
              "      <td>1.688</td>\n",
              "    </tr>\n",
              "    <tr>\n",
              "      <th>3</th>\n",
              "      <td>13093.80</td>\n",
              "      <td>4510.06</td>\n",
              "      <td>0.34444</td>\n",
              "      <td>155.4400</td>\n",
              "      <td>1.812195e+06</td>\n",
              "      <td>173.015</td>\n",
              "      <td>5273.87</td>\n",
              "      <td>32</td>\n",
              "      <td>28.1354</td>\n",
              "      <td>3.796</td>\n",
              "    </tr>\n",
              "    <tr>\n",
              "      <th>4</th>\n",
              "      <td>7545.21</td>\n",
              "      <td>2882.36</td>\n",
              "      <td>0.38201</td>\n",
              "      <td>85.1237</td>\n",
              "      <td>1.043918e+06</td>\n",
              "      <td>124.414</td>\n",
              "      <td>3263.35</td>\n",
              "      <td>57</td>\n",
              "      <td>35.0200</td>\n",
              "      <td>18.023</td>\n",
              "    </tr>\n",
              "  </tbody>\n",
              "</table>\n",
              "</div>"
            ],
            "text/plain": [
              "   mass_npea  size_npear  ...  damage_ratio  tumor_size\n",
              "0    6930.90     2919.02  ...       39.3620      14.103\n",
              "1   15635.70     4879.36  ...       22.0253       2.648\n",
              "2   10376.20     2613.88  ...       29.9963       1.688\n",
              "3   13093.80     4510.06  ...       28.1354       3.796\n",
              "4    7545.21     2882.36  ...       35.0200      18.023\n",
              "\n",
              "[5 rows x 10 columns]"
            ]
          },
          "metadata": {
            "tags": []
          },
          "execution_count": 86
        }
      ]
    },
    {
      "cell_type": "code",
      "metadata": {
        "id": "CAiUJkaoXWt1",
        "colab_type": "code",
        "colab": {
          "base_uri": "https://localhost:8080/",
          "height": 320
        },
        "outputId": "3aba692d-c83c-422e-931c-a9945077e22f"
      },
      "source": [
        "data.describe()"
      ],
      "execution_count": 87,
      "outputs": [
        {
          "output_type": "execute_result",
          "data": {
            "text/html": [
              "<div>\n",
              "<style scoped>\n",
              "    .dataframe tbody tr th:only-of-type {\n",
              "        vertical-align: middle;\n",
              "    }\n",
              "\n",
              "    .dataframe tbody tr th {\n",
              "        vertical-align: top;\n",
              "    }\n",
              "\n",
              "    .dataframe thead th {\n",
              "        text-align: right;\n",
              "    }\n",
              "</style>\n",
              "<table border=\"1\" class=\"dataframe\">\n",
              "  <thead>\n",
              "    <tr style=\"text-align: right;\">\n",
              "      <th></th>\n",
              "      <th>mass_npea</th>\n",
              "      <th>size_npear</th>\n",
              "      <th>malign_ratio</th>\n",
              "      <th>damage_size</th>\n",
              "      <th>exposed_area</th>\n",
              "      <th>std_dev_malign</th>\n",
              "      <th>err_malign</th>\n",
              "      <th>malign_penalty</th>\n",
              "      <th>damage_ratio</th>\n",
              "      <th>tumor_size</th>\n",
              "    </tr>\n",
              "  </thead>\n",
              "  <tbody>\n",
              "    <tr>\n",
              "      <th>count</th>\n",
              "      <td>9146.000000</td>\n",
              "      <td>9146.000000</td>\n",
              "      <td>9146.000000</td>\n",
              "      <td>9146.000000</td>\n",
              "      <td>9.146000e+03</td>\n",
              "      <td>9146.000000</td>\n",
              "      <td>9146.000000</td>\n",
              "      <td>9146.000000</td>\n",
              "      <td>9146.000000</td>\n",
              "      <td>9146.000000</td>\n",
              "    </tr>\n",
              "    <tr>\n",
              "      <th>mean</th>\n",
              "      <td>9903.052174</td>\n",
              "      <td>3032.827837</td>\n",
              "      <td>0.303083</td>\n",
              "      <td>103.902118</td>\n",
              "      <td>1.372442e+06</td>\n",
              "      <td>146.304239</td>\n",
              "      <td>3992.936256</td>\n",
              "      <td>69.849661</td>\n",
              "      <td>34.461652</td>\n",
              "      <td>7.723348</td>\n",
              "    </tr>\n",
              "    <tr>\n",
              "      <th>std</th>\n",
              "      <td>4060.577116</td>\n",
              "      <td>1462.334147</td>\n",
              "      <td>0.062533</td>\n",
              "      <td>55.456862</td>\n",
              "      <td>5.646773e+05</td>\n",
              "      <td>70.512177</td>\n",
              "      <td>1780.672859</td>\n",
              "      <td>55.785332</td>\n",
              "      <td>5.972808</td>\n",
              "      <td>6.086852</td>\n",
              "    </tr>\n",
              "    <tr>\n",
              "      <th>min</th>\n",
              "      <td>2864.760000</td>\n",
              "      <td>510.530000</td>\n",
              "      <td>0.114820</td>\n",
              "      <td>10.310100</td>\n",
              "      <td>3.878534e+05</td>\n",
              "      <td>31.970400</td>\n",
              "      <td>1089.190000</td>\n",
              "      <td>0.000000</td>\n",
              "      <td>15.228000</td>\n",
              "      <td>0.000000</td>\n",
              "    </tr>\n",
              "    <tr>\n",
              "      <th>25%</th>\n",
              "      <td>6988.420000</td>\n",
              "      <td>1983.657500</td>\n",
              "      <td>0.259053</td>\n",
              "      <td>64.012525</td>\n",
              "      <td>9.596873e+05</td>\n",
              "      <td>95.853900</td>\n",
              "      <td>3177.682500</td>\n",
              "      <td>31.000000</td>\n",
              "      <td>30.290225</td>\n",
              "      <td>2.320000</td>\n",
              "    </tr>\n",
              "    <tr>\n",
              "      <th>50%</th>\n",
              "      <td>8895.965000</td>\n",
              "      <td>2684.330000</td>\n",
              "      <td>0.301055</td>\n",
              "      <td>88.458300</td>\n",
              "      <td>1.237057e+06</td>\n",
              "      <td>126.138500</td>\n",
              "      <td>3846.320000</td>\n",
              "      <td>54.000000</td>\n",
              "      <td>35.245750</td>\n",
              "      <td>5.060500</td>\n",
              "    </tr>\n",
              "    <tr>\n",
              "      <th>75%</th>\n",
              "      <td>12119.950000</td>\n",
              "      <td>3830.745000</td>\n",
              "      <td>0.343002</td>\n",
              "      <td>134.209000</td>\n",
              "      <td>1.693083e+06</td>\n",
              "      <td>182.251500</td>\n",
              "      <td>4664.577500</td>\n",
              "      <td>91.000000</td>\n",
              "      <td>38.806075</td>\n",
              "      <td>13.336000</td>\n",
              "    </tr>\n",
              "    <tr>\n",
              "      <th>max</th>\n",
              "      <td>36995.400000</td>\n",
              "      <td>13535.000000</td>\n",
              "      <td>0.525300</td>\n",
              "      <td>346.420000</td>\n",
              "      <td>4.978616e+06</td>\n",
              "      <td>528.890000</td>\n",
              "      <td>91983.700000</td>\n",
              "      <td>340.000000</td>\n",
              "      <td>46.546400</td>\n",
              "      <td>20.999000</td>\n",
              "    </tr>\n",
              "  </tbody>\n",
              "</table>\n",
              "</div>"
            ],
            "text/plain": [
              "          mass_npea    size_npear  ...  damage_ratio   tumor_size\n",
              "count   9146.000000   9146.000000  ...   9146.000000  9146.000000\n",
              "mean    9903.052174   3032.827837  ...     34.461652     7.723348\n",
              "std     4060.577116   1462.334147  ...      5.972808     6.086852\n",
              "min     2864.760000    510.530000  ...     15.228000     0.000000\n",
              "25%     6988.420000   1983.657500  ...     30.290225     2.320000\n",
              "50%     8895.965000   2684.330000  ...     35.245750     5.060500\n",
              "75%    12119.950000   3830.745000  ...     38.806075    13.336000\n",
              "max    36995.400000  13535.000000  ...     46.546400    20.999000\n",
              "\n",
              "[8 rows x 10 columns]"
            ]
          },
          "metadata": {
            "tags": []
          },
          "execution_count": 87
        }
      ]
    },
    {
      "cell_type": "code",
      "metadata": {
        "id": "Vc30zkBdXmFX",
        "colab_type": "code",
        "colab": {
          "base_uri": "https://localhost:8080/",
          "height": 833
        },
        "outputId": "2850bc4f-b0d4-40cb-f180-59f7ebfe895d"
      },
      "source": [
        "data[data.columns].hist(figsize= (20,10))"
      ],
      "execution_count": 88,
      "outputs": [
        {
          "output_type": "execute_result",
          "data": {
            "text/plain": [
              "array([[<matplotlib.axes._subplots.AxesSubplot object at 0x7fe8ab584518>,\n",
              "        <matplotlib.axes._subplots.AxesSubplot object at 0x7fe8ab5aa940>,\n",
              "        <matplotlib.axes._subplots.AxesSubplot object at 0x7fe8ab52cbe0>],\n",
              "       [<matplotlib.axes._subplots.AxesSubplot object at 0x7fe8ab566f60>,\n",
              "        <matplotlib.axes._subplots.AxesSubplot object at 0x7fe8ab4de320>,\n",
              "        <matplotlib.axes._subplots.AxesSubplot object at 0x7fe8ab48f6a0>],\n",
              "       [<matplotlib.axes._subplots.AxesSubplot object at 0x7fe8abaafa90>,\n",
              "        <matplotlib.axes._subplots.AxesSubplot object at 0x7fe8ab96e908>,\n",
              "        <matplotlib.axes._subplots.AxesSubplot object at 0x7fe8ab96e710>],\n",
              "       [<matplotlib.axes._subplots.AxesSubplot object at 0x7fe8ab582ef0>,\n",
              "        <matplotlib.axes._subplots.AxesSubplot object at 0x7fe8ab665160>,\n",
              "        <matplotlib.axes._subplots.AxesSubplot object at 0x7fe8ad0aaeb8>]],\n",
              "      dtype=object)"
            ]
          },
          "metadata": {
            "tags": []
          },
          "execution_count": 88
        },
        {
          "output_type": "display_data",
          "data": {
            "image/png": "[encoded data removed]",
            "text/plain": [
              "<Figure size 1440x720 with 12 Axes>"
            ]
          },
          "metadata": {
            "tags": [],
            "needs_background": "light"
          }
        }
      ]
    },
    {
      "cell_type": "code",
      "metadata": {
        "id": "P4FTP3VAYOeC",
        "colab_type": "code",
        "colab": {}
      },
      "source": [
        "#sns.pairplot(data[data.columns])"
      ],
      "execution_count": 89,
      "outputs": []
    },
    {
      "cell_type": "code",
      "metadata": {
        "id": "2-VdLde7TCCf",
        "colab_type": "code",
        "colab": {
          "base_uri": "https://localhost:8080/",
          "height": 206
        },
        "outputId": "48b2415c-d42d-4f77-ea37-4923b47d99d1"
      },
      "source": [
        "X = data[data.columns[:9]]\n",
        "X.head()"
      ],
      "execution_count": 90,
      "outputs": [
        {
          "output_type": "execute_result",
          "data": {
            "text/html": [
              "<div>\n",
              "<style scoped>\n",
              "    .dataframe tbody tr th:only-of-type {\n",
              "        vertical-align: middle;\n",
              "    }\n",
              "\n",
              "    .dataframe tbody tr th {\n",
              "        vertical-align: top;\n",
              "    }\n",
              "\n",
              "    .dataframe thead th {\n",
              "        text-align: right;\n",
              "    }\n",
              "</style>\n",
              "<table border=\"1\" class=\"dataframe\">\n",
              "  <thead>\n",
              "    <tr style=\"text-align: right;\">\n",
              "      <th></th>\n",
              "      <th>mass_npea</th>\n",
              "      <th>size_npear</th>\n",
              "      <th>malign_ratio</th>\n",
              "      <th>damage_size</th>\n",
              "      <th>exposed_area</th>\n",
              "      <th>std_dev_malign</th>\n",
              "      <th>err_malign</th>\n",
              "      <th>malign_penalty</th>\n",
              "      <th>damage_ratio</th>\n",
              "    </tr>\n",
              "  </thead>\n",
              "  <tbody>\n",
              "    <tr>\n",
              "      <th>0</th>\n",
              "      <td>6930.90</td>\n",
              "      <td>2919.02</td>\n",
              "      <td>0.42116</td>\n",
              "      <td>51.8298</td>\n",
              "      <td>9.888294e+05</td>\n",
              "      <td>109.487</td>\n",
              "      <td>2758.76</td>\n",
              "      <td>72</td>\n",
              "      <td>39.3620</td>\n",
              "    </tr>\n",
              "    <tr>\n",
              "      <th>1</th>\n",
              "      <td>15635.70</td>\n",
              "      <td>4879.36</td>\n",
              "      <td>0.31206</td>\n",
              "      <td>223.5500</td>\n",
              "      <td>2.058426e+06</td>\n",
              "      <td>248.881</td>\n",
              "      <td>5952.53</td>\n",
              "      <td>240</td>\n",
              "      <td>22.0253</td>\n",
              "    </tr>\n",
              "    <tr>\n",
              "      <th>2</th>\n",
              "      <td>10376.20</td>\n",
              "      <td>2613.88</td>\n",
              "      <td>0.25191</td>\n",
              "      <td>127.3370</td>\n",
              "      <td>1.434676e+06</td>\n",
              "      <td>160.093</td>\n",
              "      <td>4635.26</td>\n",
              "      <td>73</td>\n",
              "      <td>29.9963</td>\n",
              "    </tr>\n",
              "    <tr>\n",
              "      <th>3</th>\n",
              "      <td>13093.80</td>\n",
              "      <td>4510.06</td>\n",
              "      <td>0.34444</td>\n",
              "      <td>155.4400</td>\n",
              "      <td>1.812195e+06</td>\n",
              "      <td>173.015</td>\n",
              "      <td>5273.87</td>\n",
              "      <td>32</td>\n",
              "      <td>28.1354</td>\n",
              "    </tr>\n",
              "    <tr>\n",
              "      <th>4</th>\n",
              "      <td>7545.21</td>\n",
              "      <td>2882.36</td>\n",
              "      <td>0.38201</td>\n",
              "      <td>85.1237</td>\n",
              "      <td>1.043918e+06</td>\n",
              "      <td>124.414</td>\n",
              "      <td>3263.35</td>\n",
              "      <td>57</td>\n",
              "      <td>35.0200</td>\n",
              "    </tr>\n",
              "  </tbody>\n",
              "</table>\n",
              "</div>"
            ],
            "text/plain": [
              "   mass_npea  size_npear  ...  malign_penalty  damage_ratio\n",
              "0    6930.90     2919.02  ...              72       39.3620\n",
              "1   15635.70     4879.36  ...             240       22.0253\n",
              "2   10376.20     2613.88  ...              73       29.9963\n",
              "3   13093.80     4510.06  ...              32       28.1354\n",
              "4    7545.21     2882.36  ...              57       35.0200\n",
              "\n",
              "[5 rows x 9 columns]"
            ]
          },
          "metadata": {
            "tags": []
          },
          "execution_count": 90
        }
      ]
    },
    {
      "cell_type": "code",
      "metadata": {
        "id": "vDnNcY3HWQKK",
        "colab_type": "code",
        "colab": {
          "base_uri": "https://localhost:8080/",
          "height": 34
        },
        "outputId": "e14516d7-d5a4-4805-85b8-766d69e1738d"
      },
      "source": [
        "y = data[['tumor_size']]\n",
        "y.head()\n",
        "\n",
        "print(np.shape(y))"
      ],
      "execution_count": 91,
      "outputs": [
        {
          "output_type": "stream",
          "text": [
            "(9146, 1)\n"
          ],
          "name": "stdout"
        }
      ]
    },
    {
      "cell_type": "code",
      "metadata": {
        "id": "6yD7Uv1m73oJ",
        "colab_type": "code",
        "colab": {
          "base_uri": "https://localhost:8080/",
          "height": 206
        },
        "outputId": "69f61e98-1c6f-4156-df6f-06ebd2e6f0f6"
      },
      "source": [
        "test  = pd.read_csv('https://raw.githubusercontent.com/mkabbhir19/melanoma_size/master/Test.csv')\n",
        "test.head()"
      ],
      "execution_count": 92,
      "outputs": [
        {
          "output_type": "execute_result",
          "data": {
            "text/html": [
              "<div>\n",
              "<style scoped>\n",
              "    .dataframe tbody tr th:only-of-type {\n",
              "        vertical-align: middle;\n",
              "    }\n",
              "\n",
              "    .dataframe tbody tr th {\n",
              "        vertical-align: top;\n",
              "    }\n",
              "\n",
              "    .dataframe thead th {\n",
              "        text-align: right;\n",
              "    }\n",
              "</style>\n",
              "<table border=\"1\" class=\"dataframe\">\n",
              "  <thead>\n",
              "    <tr style=\"text-align: right;\">\n",
              "      <th></th>\n",
              "      <th>mass_npea</th>\n",
              "      <th>size_npear</th>\n",
              "      <th>malign_ratio</th>\n",
              "      <th>damage_size</th>\n",
              "      <th>exposed_area</th>\n",
              "      <th>std_dev_malign</th>\n",
              "      <th>err_malign</th>\n",
              "      <th>malign_penalty</th>\n",
              "      <th>damage_ratio</th>\n",
              "    </tr>\n",
              "  </thead>\n",
              "  <tbody>\n",
              "    <tr>\n",
              "      <th>0</th>\n",
              "      <td>4946.44</td>\n",
              "      <td>914.06</td>\n",
              "      <td>0.18479</td>\n",
              "      <td>54.5566</td>\n",
              "      <td>6.628345e+05</td>\n",
              "      <td>67.0525</td>\n",
              "      <td>2301.76</td>\n",
              "      <td>22</td>\n",
              "      <td>41.9554</td>\n",
              "    </tr>\n",
              "    <tr>\n",
              "      <th>1</th>\n",
              "      <td>5613.85</td>\n",
              "      <td>1629.12</td>\n",
              "      <td>0.29019</td>\n",
              "      <td>51.5524</td>\n",
              "      <td>7.842271e+05</td>\n",
              "      <td>80.1986</td>\n",
              "      <td>3235.00</td>\n",
              "      <td>48</td>\n",
              "      <td>40.7410</td>\n",
              "    </tr>\n",
              "    <tr>\n",
              "      <th>2</th>\n",
              "      <td>12421.10</td>\n",
              "      <td>3062.41</td>\n",
              "      <td>0.24654</td>\n",
              "      <td>154.1560</td>\n",
              "      <td>1.763575e+06</td>\n",
              "      <td>186.8590</td>\n",
              "      <td>4684.63</td>\n",
              "      <td>63</td>\n",
              "      <td>29.4778</td>\n",
              "    </tr>\n",
              "    <tr>\n",
              "      <th>3</th>\n",
              "      <td>6830.77</td>\n",
              "      <td>2457.66</td>\n",
              "      <td>0.35979</td>\n",
              "      <td>56.8995</td>\n",
              "      <td>9.296623e+05</td>\n",
              "      <td>92.7361</td>\n",
              "      <td>3211.93</td>\n",
              "      <td>42</td>\n",
              "      <td>38.5027</td>\n",
              "    </tr>\n",
              "    <tr>\n",
              "      <th>4</th>\n",
              "      <td>33407.80</td>\n",
              "      <td>12353.60</td>\n",
              "      <td>0.36978</td>\n",
              "      <td>219.0740</td>\n",
              "      <td>4.595871e+06</td>\n",
              "      <td>493.3370</td>\n",
              "      <td>13389.36</td>\n",
              "      <td>187</td>\n",
              "      <td>26.8449</td>\n",
              "    </tr>\n",
              "  </tbody>\n",
              "</table>\n",
              "</div>"
            ],
            "text/plain": [
              "   mass_npea  size_npear  ...  malign_penalty  damage_ratio\n",
              "0    4946.44      914.06  ...              22       41.9554\n",
              "1    5613.85     1629.12  ...              48       40.7410\n",
              "2   12421.10     3062.41  ...              63       29.4778\n",
              "3    6830.77     2457.66  ...              42       38.5027\n",
              "4   33407.80    12353.60  ...             187       26.8449\n",
              "\n",
              "[5 rows x 9 columns]"
            ]
          },
          "metadata": {
            "tags": []
          },
          "execution_count": 92
        }
      ]
    },
    {
      "cell_type": "code",
      "metadata": {
        "id": "e2mBB1mK_HcK",
        "colab_type": "code",
        "colab": {
          "base_uri": "https://localhost:8080/",
          "height": 173
        },
        "outputId": "92f5dd5a-9396-43ad-c24a-dfae827f1073"
      },
      "source": [
        "feature_list = list(test.columns)\n",
        "importances = list(rfr.feature_importances_)# List of tuples with variable and importance\n",
        "feature_importances = [(feature, round(importance, 2)) for feature, importance in zip(feature_list, importances)]# Sort the feature importances by most important first\n",
        "feature_importances = sorted(feature_importances, key = lambda x: x[1], reverse = True)# Print out the feature and importances \n",
        "[print('Variable: {:20} Importance: {}'.format(*pair)) for pair in feature_importances];"
      ],
      "execution_count": 93,
      "outputs": [
        {
          "output_type": "stream",
          "text": [
            "Variable: malign_ratio         Importance: 0.21\n",
            "Variable: damage_size          Importance: 0.18\n",
            "Variable: malign_penalty       Importance: 0.13\n",
            "Variable: std_dev_malign       Importance: 0.1\n",
            "Variable: err_malign           Importance: 0.1\n",
            "Variable: exposed_area         Importance: 0.08\n",
            "Variable: damage_ratio         Importance: 0.08\n",
            "Variable: size_npear           Importance: 0.07\n",
            "Variable: mass_npea            Importance: 0.06\n"
          ],
          "name": "stdout"
        }
      ]
    },
    {
      "cell_type": "code",
      "metadata": {
        "id": "bXKLa8j3WqLT",
        "colab_type": "code",
        "colab": {}
      },
      "source": [
        "rfr = RandomForestRegressor(n_estimators = 10000,oob_score = True,bootstrap = True,random_state = 10)\n",
        "rfr.fit(X,y.values.ravel())\n",
        "predictions = rfr.predict(test)"
      ],
      "execution_count": 124,
      "outputs": []
    },
    {
      "cell_type": "code",
      "metadata": {
        "id": "QTvTyGgkN1kP",
        "colab_type": "code",
        "colab": {
          "base_uri": "https://localhost:8080/",
          "height": 34
        },
        "outputId": "bb32bfe5-02cc-49ed-daf5-e2d4d643f0d5"
      },
      "source": [
        "print(rfr.score(X,y))\n"
      ],
      "execution_count": 125,
      "outputs": [
        {
          "output_type": "stream",
          "text": [
            "0.9427464392241431\n"
          ],
          "name": "stdout"
        }
      ]
    },
    {
      "cell_type": "code",
      "metadata": {
        "id": "sY0jIptnPD4M",
        "colab_type": "code",
        "colab": {
          "base_uri": "https://localhost:8080/",
          "height": 34
        },
        "outputId": "68287e04-0179-4edd-d8d1-439d47488961"
      },
      "source": [
        "from google.colab import drive\n",
        "drive.mount('/drive')"
      ],
      "execution_count": 102,
      "outputs": [
        {
          "output_type": "stream",
          "text": [
            "Drive already mounted at /drive; to attempt to forcibly remount, call drive.mount(\"/drive\", force_remount=True).\n"
          ],
          "name": "stdout"
        }
      ]
    },
    {
      "cell_type": "code",
      "metadata": {
        "id": "SGUBdgTYW5Jc",
        "colab_type": "code",
        "colab": {}
      },
      "source": [
        "df= pd.DataFrame(predictions)\n",
        "df.columns = ['tumor_size']\n",
        "df.to_csv(\"/drive/My Drive/Colab Notebooks/submission1.csv\",index= False)\n",
        "#print(df.columns)\n",
        "#np.shape(df),np.shape(data)"
      ],
      "execution_count": 126,
      "outputs": []
    },
    {
      "cell_type": "code",
      "metadata": {
        "id": "O5Cwvb0QX375",
        "colab_type": "code",
        "colab": {}
      },
      "source": [
        ""
      ],
      "execution_count": null,
      "outputs": []
    }
  ]
}